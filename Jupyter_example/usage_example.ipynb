{
 "cells": [
  {
   "metadata": {},
   "cell_type": "markdown",
   "source": [
    "In this example we will search for different AOIs and dates, organized in a csv file. However, notice that the main function to search the Planet images is access_planet_images.planet_images, which requires as input:\n",
    "\n",
    "- AOI\n",
    "- start_date\n",
    "- end_date\n",
    "- cloud cover\n",
    "- intersection area (in percentage) between the Planet image and the AOI\n",
    "- API_KEY\n",
    "- Output folder name"
   ],
   "id": "4d3467ffc4898d9"
  },
  {
   "metadata": {},
   "cell_type": "code",
   "source": [
    "import json\n",
    "import pandas as pd\n",
    "import geopandas as gpd\n",
    "import access_planet_images\n",
    "from shapely.ops import transform"
   ],
   "id": "19b586a38e2e395",
   "outputs": [],
   "execution_count": null
  },
  {
   "metadata": {},
   "cell_type": "code",
   "source": [
    "API_KEY = 'INCLUDE_HERE_YOUR_PLANET_API_KEY'\n",
    "area_coverage = 20\n",
    "\n",
    "csv_dataset = r\"csv_example.csv\"\n",
    "output_path = \"out_json_example.json\"\n",
    "dataset_df = pd.read_csv(csv_dataset)\n",
    "dataset_df['date'] = pd.to_datetime(dataset_df['date'], format='%Y%m%d')\n",
    "dataset_df['next_day'] = dataset_df['date'] + pd.Timedelta(days=1)\n",
    "dataset_df['date'] = dataset_df['date'].dt.strftime('%Y-%m-%d')\n",
    "dataset_df['next_day'] = dataset_df['next_day'].dt.strftime('%Y-%m-%d')\n"
   ],
   "id": "initial_id",
   "outputs": [],
   "execution_count": null
  },
  {
   "metadata": {},
   "cell_type": "code",
   "source": [
    "merged_filtered_dates = {}\n",
    "merged_grouped_images = {}\n",
    "\n",
    "for i in range(0,len(dataset_df)):\n",
    "\n",
    "    tile = dataset_df.iloc[i]['tile']\n",
    "    start_date = dataset_df.iloc[i]['date']\n",
    "    end_date = dataset_df.iloc[i]['next_day']\n",
    "    gpkg_file_path = dataset_df.iloc[i]['gpkg_path']\n",
    "\n",
    "    gpkg_file = gpd.read_file(gpkg_file_path).to_crs(4326)\n",
    "\n",
    "    geojson_str = gpkg_file.to_json()\n",
    "    geojson_obj = json.loads(geojson_str) # Dictionary\n",
    "\n",
    "    grouped_images = {}\n",
    "    filtered_dates = {}\n",
    "\n",
    "    print(f\"Running {tile}, {start_date}\")\n",
    "\n",
    "    for k in range(len(geojson_obj['features'])):\n",
    "        feature = geojson_obj['features'][k]\n",
    "\n",
    "        try:\n",
    "            filtered_dates_aux, grouped_images_aux = access_planet_images.planet_images(feature[\"geometry\"], start_date, end_date, 30, area_coverage, API_KEY, tile)\n",
    "        except: continue\n",
    "\n",
    "        if not grouped_images_aux:\n",
    "            print(f\"No images found for {tile}, {start_date}\")\n",
    "            continue\n",
    "\n",
    "        if not filtered_dates_aux:\n",
    "            filtered_dates_aux = grouped_images_aux\n",
    "\n",
    "        key_g = list(grouped_images_aux.keys())[0]\n",
    "        key_f = list(filtered_dates_aux.keys())[0]\n",
    "\n",
    "        if key_g not in grouped_images:\n",
    "            grouped_images[key_g] = []\n",
    "        if key_f not in filtered_dates:\n",
    "            filtered_dates[key_f] = []\n",
    "\n",
    "        grouped_images[key_g].extend(grouped_images_aux[key_g])\n",
    "        filtered_dates[key_f].extend(filtered_dates_aux[key_f])\n",
    "\n",
    "    merged_grouped_images.update(grouped_images)\n",
    "    merged_filtered_dates.update(filtered_dates)\n",
    "\n",
    "dates_list = list(merged_filtered_dates.keys())\n",
    "\n",
    "with open(output_path, 'w') as f:\n",
    "    json.dump(merged_grouped_images, f)\n"
   ],
   "id": "3757e890f72063ad",
   "outputs": [],
   "execution_count": null
  },
  {
   "metadata": {},
   "cell_type": "markdown",
   "source": "Once we searched for all available images, we can download them.",
   "id": "e0150d9544708c9f"
  },
  {
   "metadata": {},
   "cell_type": "code",
   "source": [
    "from src.download_planet import DownloadPlanet\n",
    "\n",
    "image_out_path = \"path/to/you/folder\"\n",
    "\n",
    "planet = DownloadPlanet(image_out_path, API_KEY)\n",
    "\n",
    "with open(output_path, \"r\") as f:\n",
    "    data = json.load(f)\n",
    "\n",
    "for date_key, scenes in data.items():\n",
    "    for scene in scenes:\n",
    "        planet.process_scene(scene)"
   ],
   "id": "9b699d9946256eb9",
   "outputs": [],
   "execution_count": null
  }
 ],
 "metadata": {
  "kernelspec": {
   "display_name": "Python 3",
   "language": "python",
   "name": "python3"
  },
  "language_info": {
   "codemirror_mode": {
    "name": "ipython",
    "version": 2
   },
   "file_extension": ".py",
   "mimetype": "text/x-python",
   "name": "python",
   "nbconvert_exporter": "python",
   "pygments_lexer": "ipython2",
   "version": "2.7.6"
  }
 },
 "nbformat": 4,
 "nbformat_minor": 5
}
